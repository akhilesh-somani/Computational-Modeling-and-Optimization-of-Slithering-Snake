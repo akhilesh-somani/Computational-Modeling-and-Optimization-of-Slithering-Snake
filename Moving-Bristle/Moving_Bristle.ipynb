{
 "cells": [
  {
   "cell_type": "markdown",
   "metadata": {},
   "source": [
    "# Bristle Simulation"
   ]
  },
  {
   "cell_type": "code",
   "execution_count": null,
   "metadata": {},
   "outputs": [],
   "source": [
    "# Import Modules\n",
    "import numpy as np\n",
    "import numpy.linalg as la\n",
    "\n",
    "import matplotlib.pyplot as plt\n",
    "from matplotlib import animation\n",
    "from IPython.display import HTML\n",
    "\n",
    "from tqdm.notebook import tqdm\n",
    "\n",
    "from cosserat import Cosserat\n",
    "from bspline import test_bspline, snake_bspline\n"
   ]
  },
  {
   "cell_type": "code",
   "execution_count": null,
   "metadata": {},
   "outputs": [],
   "source": [
    "%load_ext autoreload\n",
    "%autoreload 2"
   ]
  },
  {
   "cell_type": "markdown",
   "metadata": {},
   "source": [
    "### Contact Force (Wall Force)"
   ]
  },
  {
   "cell_type": "code",
   "execution_count": null,
   "metadata": {},
   "outputs": [],
   "source": [
    "\n",
    "# Function needs n = num_of_elements, f_element, current_r, and current_v and z_wall (NEW PARAMETER)\n",
    "def wall_force (n, f_gravity, r, v):\n",
    "    # Extract the y-components of gravity for each element\n",
    "    #set f_gravity to zero before passing into wall_force\n",
    "    f_element = f_gravity [:, 1] # should ideally be a 3-dim vector of zeros\n",
    "    \n",
    "    # wall stiffness and dissipation constants\n",
    "    k_w = 10000000\n",
    "    gamma_w = 1e-6\n",
    "    \n",
    "    # Normal vector by the wall (points in negative z - direction)\n",
    "    wall_normal = np.zeros((n, 3, )) # (n,3, )\n",
    "    wall_normal[:] = [0., 0., -1.]\n",
    "\n",
    "    # Penetration distance: epsilon\n",
    "    z_wall = 1+np.sqrt(0.5); # wall at position 0\n",
    "    z_coord = r[:, 2]   # A vector of z - coordinates of each node: dimensions: (n+1, )\n",
    "    z_coord_elem = (z_coord [:-1] + z_coord [1:]) / 2.  # A vector of z - coordinates of each node: dimensions: (n+1, )\n",
    "    epsilon = z_coord_elem - np.ones((n, )) * z_wall  # Penetration depth of each element's centre: (n,)\n",
    "\n",
    "    #Velocity of the centre of each element (in z - direction only)\n",
    "    velo_element = (v [1:,2] + v [:-1,2])/2. # (n, )\n",
    "\n",
    "    # wall_force on each element: ((n, 3, ))\n",
    "    f_wall_elem = np.zeros((n, 3, ))\n",
    "    # updating just the z-component of wall force as no force is exerted along x and z axis\n",
    "    f_wall_elem [:, 2] = np.heaviside(epsilon, 1.) * ( - f_element - k_w * epsilon - gamma_w * velo_element)\n",
    "    \n",
    "    # wall_force on each node: ((n+1, 3, ))\n",
    "    f_wall_nodes = np.zeros((n+1, 3,))\n",
    "    f_wall_nodes[:-1] += (f_wall_elem)/2.\n",
    "    f_wall_nodes[1:] += (f_wall_elem)/2.\n",
    "\n",
    "    return f_wall_nodes, f_wall_elem"
   ]
  },
  {
   "cell_type": "markdown",
   "metadata": {},
   "source": [
    "### Anisotropic Friction"
   ]
  },
  {
   "cell_type": "code",
   "execution_count": null,
   "metadata": {},
   "outputs": [],
   "source": [
    "# Longitudinal Friction Calculation\n",
    "# calcs friction for each node\n",
    "def friction_long (v, t, f_element, f_wall_element, n, mu_sf, mu_kf, mu_sb, mu_kb):\n",
    "    wall_normal = np.zeros((n, 3, ))\n",
    "    wall_normal[:,2] = -1.0\n",
    "    \n",
    "    u_para = np.cross(t, wall_normal) # (n,3)\n",
    "    u_x = np.cross(wall_normal, u_para) \n",
    "    u_x = u_x / la.norm (u_x, axis = 1, keepdims = True) # (n,3) \n",
    "    \n",
    "    # get velocity from the cosserat class: v will be of shape: (n+1,3)\n",
    "    # convert v to (n, 3, ) -> Avg velocity of the adjacent nodes is assigned to the centre of the element    \n",
    "    v_elem = (v [:-1] + v [1:])/2. # (n,3)\n",
    "    v_epsilon = 1e-6  # (threshold velocity)    \n",
    "    \n",
    "    vx_mag = np.sum(v_elem * u_x, axis=1, keepdims=True)\n",
    "    \n",
    "    mask = np.abs(vx_mag)[:,0] > v_epsilon # masking static friction (True element applies kinetic friction)\n",
    "    f_long_elem = u_x.copy()\n",
    "    _abs_f_wall_element = np.abs(f_wall_element[:,1:2])\n",
    "    # Kinetic friction\n",
    "    if np.any(mask):\n",
    "        direction = -np.sign(vx_mag[mask])\n",
    "        mu = np.ones_like(direction) * mu_kb\n",
    "        mu[direction < 0] = mu_kf\n",
    "        f_long_elem[mask] *= (direction * mu * _abs_f_wall_element[mask])\n",
    "\n",
    "    # Static friction\n",
    "    if np.any(~mask):\n",
    "        f_dot_ux = np.sum(f_element[~mask]*u_x[~mask], axis=1, keepdims=True)\n",
    "        direction = -np.sign(f_dot_ux)\n",
    "        mu = np.ones_like(direction) * mu_sb\n",
    "        mu[direction < 0] = mu_sf\n",
    "        f_long_elem[~mask] *= (direction * np.fmin(np.abs(f_dot_ux), mu * _abs_f_wall_element[~mask]))\n",
    "    \n",
    "    f_long_node = np.zeros((n+1, 3, ))\n",
    "    f_long_node[:-1] += (f_long_elem)/2.\n",
    "    f_long_node[1:] += (f_long_elem)/2.\n",
    "    \n",
    "    \n",
    "    return f_long_node"
   ]
  },
  {
   "cell_type": "code",
   "execution_count": null,
   "metadata": {},
   "outputs": [],
   "source": [
    "# Generate Animation\n",
    "def make_animation(s_list, r_list, n_step):\n",
    "    fig = plt.figure() \n",
    "    #ax = plt.axes(xlim=(-50, 50), ylim=(-50, 50)) \n",
    "    ax1 = fig.add_subplot(111)\n",
    "    plot, = ax1.plot([],[],'-x')\n",
    "    xmax = max([np.max(ar) for ar in s_list])\n",
    "    xmin = min([np.min(ar) for ar in s_list])\n",
    "    ymax = max([np.max(ar) for ar in r_list])\n",
    "    ymin = min([np.min(ar) for ar in r_list])\n",
    "    plt.title('xz plot')\n",
    "    plt.xlabel('x')\n",
    "    plt.ylabel('z')\n",
    "    plt.xlim([xmin,xmax])\n",
    "    plt.ylim([ymin,ymax])\n",
    "    def animate(i):\n",
    "        _ = plot.set_data(s_list[i], r_list[i])\n",
    "\n",
    "    anim = animation.FuncAnimation(fig, animate, frames=n_step) \n",
    "    return fig, anim"
   ]
  },
  {
   "cell_type": "markdown",
   "metadata": {},
   "source": [
    "# CMAES Optimization Block:"
   ]
  },
  {
   "cell_type": "code",
   "execution_count": null,
   "metadata": {},
   "outputs": [],
   "source": [
    "from project3_setup import setup, L, n, M, mu_sf, mu_kf, mu_sb, mu_kb, dt, T_m\n",
    "\n",
    "#s_hat = np.linspace(0., L, n+1) # Positions of nodes along centerline when t = 0 (i.e. initial configuration)\n",
    "#s_elements = (s_hat[:-1] + s_hat[1:])/2. # [n] --> Center points of each element along centerline\n",
    "\n",
    "s_list = [] # Position list for future use\n",
    "y_list = [] # Height list for future use\n",
    "t_list = [] # time list\n",
    "friction = []\n",
    "total_force_list = []\n",
    "\n",
    "def bristle_CMA_call():\n",
    "    \n",
    "    # initialization\n",
    "    solution = Cosserat(**setup)\n",
    "    n_step = 100000\n",
    "    r, v, Q, w = solution.get_state # Initial state\n",
    "    \n",
    "    print(r)\n",
    "    \n",
    "    tangent = solution.get_tangent\n",
    "    \n",
    "    s_list.append(r[:,2]) # save k-axis\n",
    "    y_list.append(r[:,0]) # save i-axis\n",
    "    \n",
    "    # Get the parameter x from CMAES\n",
    "\n",
    "    \n",
    "    #Initialize internal shear force at each element\n",
    "    shear_nodes = np.zeros((n+1,3,))\n",
    "    \n",
    "    time = 0\n",
    "    for itr in tqdm(range(n_step)):\n",
    "        \n",
    "        shear_nodes[0], shear_nodes[-1]  = 2 * shear_nodes[0], 2 * shear_nodes[-1]  \n",
    "        # Calc shear at the elements: [n]\n",
    "        shear_elements = (shear_nodes [:-1] + shear_nodes[1:])/2.\n",
    "               \n",
    "        # (i) Wall Force Calculation:\n",
    "        f_wall_nodes, f_wall_elements = wall_force (n, shear_elements, r, v)\n",
    "        \n",
    "        # (ii) Friction Force Calculation:\n",
    "        F = f_wall_elements + shear_elements # Total force on each element\n",
    "        #f_friction_nodes = friction_long (v, tangent, F, f_wall_elements, n, mu_sf, mu_kf, mu_sb, mu_kb)\n",
    "        #friction.append(np.average(np.linalg.norm(f_friction_nodes[:], axis = 1)))\n",
    "            \n",
    "        # (iii) Total Force Calculation at each node:\n",
    "        f_total_nodes = f_wall_nodes #+ f_friction_nodes\n",
    "        #print(\"w/o damping\", np.linalg.norm(f_total_nodes[:], axis = 1))\n",
    "        \n",
    "        #print(f_total_nodes)\n",
    "        \n",
    "        f_total_nodes -= 1000 * v\n",
    "        #print(\"with damping\", np.linalg.norm(f_total_nodes[:], axis = 1))\n",
    "        \n",
    "        # Run step\n",
    "        r, v, Q, w  = solution.step(dt = dt, force = f_total_nodes)\n",
    "\n",
    "        tangent = solution.get_tangent\n",
    "        shear_nodes = solution.get_shear\n",
    "        total_force_list.append(f_total_nodes[-1]+shear_nodes[-1])\n",
    "         \n",
    "        #print(r)\n",
    "        \n",
    "        if itr % 250 == 0:\n",
    "            s_list.append(r[:,2])\n",
    "            y_list.append(r[:,0])\n",
    "            t_list.append(time)\n",
    "\n",
    "        time += dt\n",
    "        \n",
    "#     plt.plot(np.array(total_force_list), label = 'Total Force')\n",
    "#     #plt.plot(np.array(friction)[:,1], label = 'Friction Z')\n",
    "#     #plt.title(\"Average friction on snake at any iteration\")\n",
    "#     #plt.title(\"Friction on last element of snake at any iteration\")\n",
    "#     plt.legend()\n",
    "#     plt.ylabel(\"Force (N)\")\n",
    "#     plt.xlabel(\"Iterations\")\n",
    "#     plt.plot()\n",
    "    \n",
    "    return r"
   ]
  },
  {
   "cell_type": "code",
   "execution_count": null,
   "metadata": {},
   "outputs": [],
   "source": [
    "# Test optimal run\n",
    "\n",
    "bristle_CMA_call()"
   ]
  },
  {
   "cell_type": "code",
   "execution_count": null,
   "metadata": {},
   "outputs": [],
   "source": [
    "# plt.plot(np.array(total_force_list).T[0])\n",
    "# #plt.plot(np.array(friction)[:,1], label = 'Friction Z')\n",
    "# #plt.title(\"Average friction on snake at any iteration\")\n",
    "# #plt.title(\"Friction on last element of snake at any iteration\")\n",
    "# #plt.legend()\n",
    "# plt.ylabel(\"Force (N)\")\n",
    "# plt.xlabel(\"Iterations\")\n",
    "# plt.plot()"
   ]
  },
  {
   "cell_type": "code",
   "execution_count": null,
   "metadata": {
    "scrolled": false
   },
   "outputs": [],
   "source": [
    "_, anim = make_animation(y_list, s_list, len(s_list))"
   ]
  },
  {
   "cell_type": "code",
   "execution_count": null,
   "metadata": {},
   "outputs": [],
   "source": [
    "HTML(anim.to_jshtml())"
   ]
  },
  {
   "cell_type": "code",
   "execution_count": null,
   "metadata": {},
   "outputs": [],
   "source": [
    "print(total_force_list[-100])"
   ]
  },
  {
   "cell_type": "code",
   "execution_count": null,
   "metadata": {},
   "outputs": [],
   "source": []
  }
 ],
 "metadata": {
  "kernelspec": {
   "display_name": "Python 3",
   "language": "python",
   "name": "python3"
  },
  "language_info": {
   "codemirror_mode": {
    "name": "ipython",
    "version": 3
   },
   "file_extension": ".py",
   "mimetype": "text/x-python",
   "name": "python",
   "nbconvert_exporter": "python",
   "pygments_lexer": "ipython3",
   "version": "3.7.6"
  },
  "widgets": {
   "state": {
    "bc90be8be80c4480bdb4881662995dcf": {
     "views": [
      {
       "cell_index": 10
      }
     ]
    }
   },
   "version": "1.2.0"
  }
 },
 "nbformat": 4,
 "nbformat_minor": 4
}
