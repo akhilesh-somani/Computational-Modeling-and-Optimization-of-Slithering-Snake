{
 "cells": [
  {
   "cell_type": "markdown",
   "metadata": {},
   "source": [
    "# Slithering Snake Simulation"
   ]
  },
  {
   "cell_type": "code",
   "execution_count": null,
   "metadata": {},
   "outputs": [],
   "source": [
    "# Import Modules\n",
    "import numpy as np\n",
    "import numpy.linalg as la\n",
    "\n",
    "import matplotlib.pyplot as plt\n",
    "from matplotlib import animation\n",
    "from IPython.display import HTML\n",
    "\n",
    "from tqdm.notebook import tqdm\n",
    "\n",
    "from cosserat import Cosserat\n",
    "from bspline import test_bspline, snake_bspline\n"
   ]
  },
  {
   "cell_type": "code",
   "execution_count": null,
   "metadata": {},
   "outputs": [],
   "source": [
    "%load_ext autoreload\n",
    "%autoreload 2"
   ]
  },
  {
   "cell_type": "markdown",
   "metadata": {},
   "source": [
    "### Muscular Activity"
   ]
  },
  {
   "cell_type": "code",
   "execution_count": null,
   "metadata": {},
   "outputs": [],
   "source": [
    "import numpy as np\n",
    "# my_data is a (x, 3) time series data\n",
    "# The first columnd my_data[:,0] contains the time\n",
    "# The second columnd my_data[:,1] contains the forward snake velocity\n",
    "# The third columnd my_data[:,2] contains the lateral snake velocity\n",
    "my_data = np.loadtxt('optimized_snake.dat')\n",
    "plt.plot(my_data[:,1])"
   ]
  },
  {
   "cell_type": "code",
   "execution_count": null,
   "metadata": {
    "scrolled": true
   },
   "outputs": [],
   "source": [
    "# test_bspline needs (BETAS, total_number_of_elements i.e. n, total_length_of_rod i.e. L)\n",
    "total_length = 3\n",
    "n_nodes = 100\n",
    "betas = [5.48010964, 2.88997841, 2.45656694, -0.13776412]\n",
    "plt.plot(np.linspace(0,total_length,n_nodes), test_bspline(betas, n_nodes, total_length))\n",
    "plt.plot(np.linspace(0,total_length,len(betas)+2)[1:-1], betas, 'o')"
   ]
  },
  {
   "cell_type": "code",
   "execution_count": null,
   "metadata": {},
   "outputs": [],
   "source": [
    "def torque(s_elements, beta_m, Q, t, lambda_m, T_m):\n",
    "    # A_m here denotes the magnitude of the torque acting on each element at time 't'\n",
    "    A_m = beta_m * np.sin((2*np.pi/T_m) * t - (2*np.pi/lambda_m) * s_elements) # [n]\n",
    "\n",
    "    # extract the y - direction component of the elements\n",
    "    #d_2 = np.zeros((n,3,))\n",
    "    #d_2[:,1] = 1.0\n",
    "    #d_2 = Q [:,1] # [n,3]\n",
    "    \n",
    "    # torque vector at each element: --> torque_elem: ((n, 3, ))\n",
    "    #torque_elem = A_m[:,None] * (Q @ d_2[:,:, None]).reshape(n,3,)\n",
    "    torque_elem = np.zeros((n,3,))\n",
    "    torque_elem [:,1] = A_m\n",
    "    \n",
    "    # torque vector at each node: --> torque_nodes ((n+1, 3, ))\n",
    "#     torque_nodes = np.zeros((n+1, 3,))\n",
    "#     torque_nodes[:-1] += (torque_elem)/2.\n",
    "#     torque_nodes[1:] += (torque_elem)/2.\n",
    "    \n",
    "    return torque_elem"
   ]
  },
  {
   "cell_type": "markdown",
   "metadata": {},
   "source": [
    "### Contact Force (Wall Force)"
   ]
  },
  {
   "cell_type": "code",
   "execution_count": null,
   "metadata": {},
   "outputs": [],
   "source": [
    "# Function needs n = num_of_elements, f_element, current_r, and current_v\n",
    "# f_element will be constant throughout out simulations as we just have gravity so we can calc that force beforehand\n",
    "# this will save time since we won't have to calc that force every time the wall_force function is run\n",
    "def wall_force (n, f_gravity, r, v):\n",
    "    # Extract the y-components of gravity for each element\n",
    "    f_element = f_gravity [:, 1]\n",
    "    # wall stiffness and dissipation constants\n",
    "    k_w = 1\n",
    "    gamma_w = 1e-6\n",
    "    # Normal vector by the wall\n",
    "    wall_normal = np.zeros((n, 3, )) # (n,3, )\n",
    "    wall_normal[:] = [0., 1., 0.]\n",
    "\n",
    "    # Penetration distance: epsilon\n",
    "    y_coord = r[:, 1]  # A vector of y - coordinates of each node: dimensions: (n+1, )\n",
    "    epsilon = (y_coord [:-1] + y_coord [1:]) / 2. # Penetration depth of each element's centre: (n,)\n",
    "\n",
    "    #Velocity of the centre of each element (in y-direction only)\n",
    "    velo_element = (v [1:,1] + v [:-1,1])/2. # (n, )\n",
    "\n",
    "    # wall_force on each element: ((n, 3, ))\n",
    "    f_wall_elem = np.zeros((n, 3, ))\n",
    "    # updating just the y-component of wall force as no force is exerted along x and z axis\n",
    "    f_wall_elem [:, 1] = np.heaviside(- epsilon, 1.) * (- f_element - k_w * epsilon - gamma_w * velo_element)\n",
    "    \n",
    "    # wall_force on each node: ((n+1, 3, ))\n",
    "    f_wall_nodes = np.zeros((n+1, 3,))\n",
    "    f_wall_nodes[:-1] += (f_wall_elem)/2.\n",
    "    f_wall_nodes[1:] += (f_wall_elem)/2.\n",
    "\n",
    "    return f_wall_nodes, f_wall_elem"
   ]
  },
  {
   "cell_type": "markdown",
   "metadata": {},
   "source": [
    "### Anisotropic Friction"
   ]
  },
  {
   "cell_type": "code",
   "execution_count": null,
   "metadata": {},
   "outputs": [],
   "source": [
    "# Longitudinal Friction Calculation\n",
    "# calcs friction for each node\n",
    "def friction_long (v, t, f_element, f_wall_element, n, mu_sf, mu_kf, mu_sb, mu_kb):\n",
    "    wall_normal = np.zeros((n, 3, ))\n",
    "    wall_normal[:,1] = 1.0\n",
    "    \n",
    "    u_para = np.cross(t, wall_normal) # (n,3)\n",
    "    u_x = np.cross(wall_normal, u_para) \n",
    "    u_x = u_x / la.norm (u_x, axis = 1, keepdims = True) # (n,3) \n",
    "    \n",
    "    # get velocity from the cosserat class: v will be of shape: (n+1,3)\n",
    "    # convert v to (n, 3, ) -> Avg velocity of the adjacent nodes is assigned to the centre of the element    \n",
    "    v_elem = (v [:-1] + v [1:])/2. # (n,3)\n",
    "    v_epsilon = 1e-6  # (threshold velocity)    \n",
    "    \n",
    "    vx_mag = np.sum(v_elem * u_x, axis=1, keepdims=True)\n",
    "    \n",
    "    mask = np.abs(vx_mag)[:,0] > v_epsilon # masking static friction (True element applies kinetic friction)\n",
    "    f_long_elem = u_x.copy()\n",
    "    _abs_f_wall_element = np.abs(f_wall_element[:,1:2])\n",
    "    # Kinetic friction\n",
    "    if np.any(mask):\n",
    "        direction = -np.sign(vx_mag[mask])\n",
    "        mu = np.ones_like(direction) * mu_kb\n",
    "        mu[direction < 0] = mu_kf\n",
    "        f_long_elem[mask] *= (direction * mu * _abs_f_wall_element[mask])\n",
    "\n",
    "    # Static friction\n",
    "    if np.any(~mask):\n",
    "        f_dot_ux = np.sum(f_element[~mask]*u_x[~mask], axis=1, keepdims=True)\n",
    "        direction = -np.sign(f_dot_ux)\n",
    "        mu = np.ones_like(direction) * mu_sb\n",
    "        mu[direction < 0] = mu_sf\n",
    "        f_long_elem[~mask] *= (direction * np.fmin(np.abs(f_dot_ux), mu * _abs_f_wall_element[~mask]))\n",
    "        \n",
    "    # Till here, we successfully calc f_long_element for each element\n",
    "    # Now, we need to expand the f_long_element from n dims to n+1 dims i.e. apply to all the nodes\n",
    "    \n",
    "    f_long_node = np.zeros((n+1, 3, ))\n",
    "    f_long_node[:-1] += (f_long_elem)/2.\n",
    "    f_long_node[1:] += (f_long_elem)/2.\n",
    "         \n",
    "    return f_long_node"
   ]
  },
  {
   "cell_type": "code",
   "execution_count": null,
   "metadata": {},
   "outputs": [],
   "source": [
    "# Generate Animation\n",
    "def make_animation(s_list, r_list, n_step):\n",
    "    fig = plt.figure() \n",
    "    #ax = plt.axes(xlim=(-50, 50), ylim=(-50, 50)) \n",
    "    ax1 = fig.add_subplot(111)\n",
    "    plot, = ax1.plot([],[],'-x')\n",
    "    xmax = max([np.max(ar) for ar in s_list])\n",
    "    xmin = min([np.min(ar) for ar in s_list])\n",
    "    ymax = max([np.max(ar) for ar in r_list])\n",
    "    ymin = min([np.min(ar) for ar in r_list])\n",
    "    plt.title('zy plot')\n",
    "    plt.xlabel('z')\n",
    "    plt.ylabel('y')\n",
    "    plt.xlim([xmin,xmax])\n",
    "    plt.ylim([5*ymin,5*ymax])\n",
    "    def animate(i):\n",
    "        _ = plot.set_data(s_list[i], r_list[i])\n",
    "\n",
    "    anim = animation.FuncAnimation(fig, animate, frames=n_step) \n",
    "    return fig, anim"
   ]
  },
  {
   "cell_type": "markdown",
   "metadata": {},
   "source": [
    "# CMAES Optimization Block:"
   ]
  },
  {
   "cell_type": "code",
   "execution_count": null,
   "metadata": {},
   "outputs": [],
   "source": [
    "from setup_snake import setup, L, n, M, mu_sf, mu_kf, mu_sb, mu_kb, dt, T_m\n",
    "\n",
    "s_hat = np.linspace(0., L, n+1) # Positions of nodes along centerline when t = 0 (i.e. initial configuration)\n",
    "s_elements = (s_hat[:-1] + s_hat[1:])/2. # [n] --> Center points of each element along centerline\n",
    "\n",
    "# Gravitational force on each element (only the y-component)\n",
    "f_gravity_elements = np.zeros((n, 3, )) # (n,3,)\n",
    "f_gravity_elements [:,1] = - (M/n) * 9.81\n",
    "\n",
    "# Gravitational Force Vector on each node (will be used later for calculation of total_force)\n",
    "f_gravity_nodes = np.zeros((n+1, 3, ))\n",
    "f_gravity_nodes [:-1] += f_gravity_elements/2.\n",
    "f_gravity_nodes [1:] += f_gravity_elements/2.\n",
    "\n",
    "s_list = [] # Position list for future use\n",
    "y_list = [] # Height list for future use\n",
    "t_list = [] # time list\n",
    "couples = []\n",
    "friction = []\n",
    "total_force_list = []\n",
    "\n",
    "def snake_CMA_call(x):\n",
    "    \n",
    "    # initialization\n",
    "    solution = Cosserat(**setup)\n",
    "    n_step = 10000\n",
    "    r, v, Q, w = solution.get_state # Initial state\n",
    "    tangent = solution.get_tangent\n",
    "    \n",
    "    s_list.append(r[:,2]) # save k-axis\n",
    "    y_list.append(r[:,0]) # save i-axis\n",
    "    \n",
    "    # Get the parameter x from CMAES\n",
    "    betas = x[0:4]\n",
    "    lambda_m = x[4]\n",
    "    # Constraint: Floor the values of Betas to 50.0 if they exceed 50.0\n",
    "    betas = np.fmin(betas, 50.0)\n",
    "    \n",
    "    beta_m = np.array(test_bspline(betas, n , L)) # [n] --> for each element --> used in torque func\n",
    "    \n",
    "    v_frwd = [] # Will append the avg. frwd velocity of snake for time 't': 4 < t <=6. (i.e. 2 activation cycles)\n",
    "    \n",
    "    #Initialize internal shear force at each element\n",
    "    shear_nodes = np.zeros((n+1,3,))\n",
    "    time = 0\n",
    "    \n",
    "    for itr in tqdm(range(n_step)):\n",
    "        \n",
    "        shear_nodes[0], shear_nodes[-1]  = 2 * shear_nodes[0], 2 * shear_nodes[-1]  \n",
    "        # Calc shear at the elements: [n]\n",
    "        shear_elements = (shear_nodes [:-1] + shear_nodes[1:])/2.\n",
    "               \n",
    "        # (i) Wall Force Calculation:\n",
    "        f_wall_nodes, f_wall_elements = wall_force (n, (f_gravity_elements + shear_elements), r, v)\n",
    "        \n",
    "        # (ii) Friction Force Calculation:\n",
    "        F = f_wall_elements + f_gravity_elements + shear_elements # Total force on each element\n",
    "        f_friction_nodes = friction_long (v, tangent, F, f_wall_elements, n, mu_sf, mu_kf, mu_sb, mu_kb)\n",
    "            \n",
    "        # (iii) Total Force Calculation at each node:\n",
    "        f_total_nodes = f_wall_nodes + f_gravity_nodes + f_friction_nodes\n",
    "        f_total_nodes -= 1000 * v\n",
    "        \n",
    "        # (iv) Torque Calculation:\n",
    "        couple = torque(s_elements, beta_m, Q, time, lambda_m, T_m) # [n]\n",
    "\n",
    "        # Run step\n",
    "        r, v, Q, w  = solution.step(dt = dt, couple = couple, force = f_total_nodes)\n",
    "        #r, v, Q, w  = solution.step(couple=couple)\n",
    "        tangent = solution.get_tangent\n",
    "        shear_nodes = solution.get_shear\n",
    "        \n",
    "        if itr % 300 == 0:\n",
    "            s_list.append(r[:,2])\n",
    "            y_list.append(r[:,0])\n",
    "            t_list.append(time)\n",
    "            v_frwd.append([np.average(np.linalg.norm(v[:], axis = 1))])\n",
    "       \n",
    "        time += dt\n",
    "    \n",
    "#     v_frwd = np.array(v_frwd)\n",
    "#     plt.plot(v_frwd.T[0], label = 'Z-direction')\n",
    "#     plt.subplots(figsize=(20,10))\n",
    "#     plt.plot(v_frwd.T[0], label = 'Average Actual velocity')\n",
    "#     plt.xlabel('Number of Iterations')\n",
    "#     plt.ylabel('Velocity (m/s)')\n",
    "#     plt.legend()\n",
    "#     plt.show()\n",
    "    \n",
    "    # Calculate fitness function\n",
    "    fitness = - np.average(np.linalg.norm(v[:], axis = 1))\n",
    "    \n",
    "    return fitness"
   ]
  },
  {
   "cell_type": "markdown",
   "metadata": {},
   "source": [
    "# One Run of the Snake's Simulation using Optimized Betas and Lambda from CMA"
   ]
  },
  {
   "cell_type": "code",
   "execution_count": null,
   "metadata": {},
   "outputs": [],
   "source": [
    "# Test optimal run\n",
    "#opt_beta = [17.4, 48.5, 5.4, 14.7]\n",
    "# run_1_beta = [5.48010964, 2.88997841, 2.45656694, -0.13776412]\n",
    "# run_1_lambda = 2.21413977\n",
    "\n",
    "run_2_beta = [-0.25702005, 12.85092678,  3.07562002, -3.86988345]\n",
    "run_2_lambda = -2.58794542\n",
    "\n",
    "opt_beta = run_2_beta\n",
    "opt_lambda = run_2_lambda\n",
    "\n",
    "opt_x = np.array(opt_beta+[opt_lambda])\n",
    "snake_CMA_call(opt_x)"
   ]
  },
  {
   "cell_type": "markdown",
   "metadata": {},
   "source": [
    "# Visualizing snake in 2D animation"
   ]
  },
  {
   "cell_type": "code",
   "execution_count": null,
   "metadata": {
    "scrolled": false
   },
   "outputs": [],
   "source": [
    "_, anim = make_animation(s_list, y_list, len(s_list))"
   ]
  },
  {
   "cell_type": "code",
   "execution_count": null,
   "metadata": {},
   "outputs": [],
   "source": [
    "HTML(anim.to_jshtml())"
   ]
  },
  {
   "cell_type": "code",
   "execution_count": null,
   "metadata": {},
   "outputs": [],
   "source": []
  },
  {
   "cell_type": "markdown",
   "metadata": {},
   "source": [
    "# CMA Optimization Campaign"
   ]
  },
  {
   "cell_type": "code",
   "execution_count": null,
   "metadata": {
    "scrolled": true
   },
   "outputs": [],
   "source": [
    "from cma import CMAES\n",
    "\n",
    "# CMAES Params: Initialization\n",
    "initial_centroid = np.random.random(5, ) # 5 dimensions to optimize for\n",
    "initial_centroid [:4] = initial_centroid [:4] * 10.0\n",
    "print(initial_centroid)\n",
    "\n",
    "# Parameters to tweek:\n",
    "iterations = 30\n",
    "sigma = 10\n",
    "pop_size = 25\n",
    "\n",
    "cma_es = CMAES (initial_centroid, sigma, pop_size, iterations)\n",
    "best_pop, best_outputs = cma_es.run(snake_CMA_call)\n",
    "print(\"Values of Betas and Lambda_m are: \", best_pop)\n",
    "print(\"The value of velocity is: \", - best_outputs[-1])"
   ]
  },
  {
   "cell_type": "code",
   "execution_count": null,
   "metadata": {},
   "outputs": [],
   "source": [
    "plt.plot(best_outputs, 'o--')\n",
    "plt.ylabel(\"Fitness Function (-ve of avg-total-velocity (m/s))\")\n",
    "plt.xlabel('Iteration Number')\n",
    "plt.title('CMA Optimization of fitness function')"
   ]
  }
 ],
 "metadata": {
  "kernelspec": {
   "display_name": "Python 3",
   "language": "python",
   "name": "python3"
  },
  "language_info": {
   "codemirror_mode": {
    "name": "ipython",
    "version": 3
   },
   "file_extension": ".py",
   "mimetype": "text/x-python",
   "name": "python",
   "nbconvert_exporter": "python",
   "pygments_lexer": "ipython3",
   "version": "3.7.6"
  }
 },
 "nbformat": 4,
 "nbformat_minor": 4
}
