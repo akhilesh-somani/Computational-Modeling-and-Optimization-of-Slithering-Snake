{
 "cells": [
  {
   "cell_type": "markdown",
   "metadata": {},
   "source": [
    "# Wall Force Visualization and Validation"
   ]
  },
  {
   "cell_type": "code",
   "execution_count": null,
   "metadata": {},
   "outputs": [],
   "source": [
    "# Import Modules\n",
    "import numpy as np\n",
    "import numpy.linalg as la\n",
    "\n",
    "import matplotlib.pyplot as plt\n",
    "from matplotlib import animation\n",
    "from IPython.display import HTML\n",
    "\n",
    "from cosserat import Cosserat\n",
    "from bspline import test_bspline, snake_bspline"
   ]
  },
  {
   "cell_type": "code",
   "execution_count": null,
   "metadata": {},
   "outputs": [],
   "source": [
    "%load_ext autoreload\n",
    "%autoreload 2"
   ]
  },
  {
   "cell_type": "markdown",
   "metadata": {},
   "source": [
    "### Contact Force (Wall Force)"
   ]
  },
  {
   "cell_type": "code",
   "execution_count": null,
   "metadata": {},
   "outputs": [],
   "source": [
    "# Function needs n = num_of_elements, f_element, current_r, and current_v\n",
    "# f_element will be constant throughout out simulations as we just have gravity so we can calc that force beforehand\n",
    "# this will save time since we won't have to calc that force every time the wall_force function is run\n",
    "def wall_force (n, f_gravity, r, v):\n",
    "    # Extract the y-components of gravity for each element\n",
    "    f_element = f_gravity [:, 1]\n",
    "    # wall stiffness and dissipation constants\n",
    "    k_w = 1\n",
    "    gamma_w = 1e-6\n",
    "    # Normal vector by the wall\n",
    "    wall_normal = np.zeros((n, 3, )) # (n,3, )\n",
    "    wall_normal[:] = [0., 1., 0.]\n",
    "\n",
    "    # Penetration distance: epsilon\n",
    "    y_coord = r[:, 1]  # A vector of y - coordinates of each node: dimensions: (n+1, )\n",
    "    epsilon = (y_coord [:-1] + y_coord [1:]) / 2. # Penetration depth of each element's centre: (n,)\n",
    "\n",
    "    #Velocity of the centre of each element (in y-direction only)\n",
    "    velo_element = (v [1:,1] + v [:-1,1])/2. # (n, )\n",
    "\n",
    "    # wall_force on each element: ((n, 3, ))\n",
    "    f_wall_elem = np.zeros((n, 3, ))\n",
    "    # updating just the y-component of wall force as no force is exerted along x and z axis\n",
    "    \n",
    "    f_wall_elem [:, 1] = np.heaviside(- epsilon, 1.) * (- f_element - k_w * epsilon - gamma_w * velo_element)\n",
    "    # wall_force on each node: ((n+1, 3, ))\n",
    "    f_wall_nodes = np.zeros((n+1, 3,))\n",
    "    f_wall_nodes[:-1] += (f_wall_elem)/2.\n",
    "    f_wall_nodes[1:] += (f_wall_elem)/2.\n",
    "\n",
    "    return f_wall_nodes, f_wall_elem"
   ]
  },
  {
   "cell_type": "markdown",
   "metadata": {},
   "source": [
    "# Wall Force Validation:"
   ]
  },
  {
   "cell_type": "code",
   "execution_count": null,
   "metadata": {},
   "outputs": [],
   "source": [
    "from setup_wallforce import setup, L, n, M\n",
    "\n",
    "# Gravitational force on each element (only the y-component)\n",
    "f_gravity_elements = np.zeros((n, 3, )) # (n,3,)\n",
    "f_gravity_elements [:,1] = - (M/n) * 9.81\n",
    "\n",
    "# Gravitational Force Vector on each node (will be used later for calculation of total_force)\n",
    "f_gravity_nodes = np.zeros((n+1, 3, ))\n",
    "f_gravity_nodes [:-1] += f_gravity_elements/2.\n",
    "f_gravity_nodes [1:] += f_gravity_elements/2.\n",
    "\n",
    "n_step = 10000 # number of steps (3 secs)\n",
    "dt = 3e-4\n",
    "\n",
    "solution = Cosserat(**setup) # Should initialize the variables and setup the boundary conditions in cosserat.py code\n",
    "state = solution.get_state # Initial state\n",
    "y_list = [] # Height list\n",
    "v_list = [] # Velocity (y-direction)\n",
    "f_wall_force_list = []\n",
    "f_total_force_list = []\n",
    "\n",
    "r, v, Q, w = state[0], state[1], state[2], state[3]\n",
    "couple = np.zeros((n,3,))\n",
    "\n",
    "for itr in range(n_step):\n",
    "\n",
    "#     shear_nodes[0], shear_nodes[-1]  = 2 * shear_nodes[0], 2 * shear_nodes[-1]  \n",
    "#     # Calc shear at the elements: [n]\n",
    "#     shear_elements = (shear_nodes [:-1] + shear_nodes[1:])/2.\n",
    "\n",
    "    # (i) Wall Force Calculation:\n",
    "    f_wall_nodes, f_wall_elements = wall_force (n, f_gravity_elements, r, v)\n",
    "    f_wall_force_list.append(f_wall_nodes[1][1])\n",
    "    \n",
    "#     # (ii) Friction Force Calculation:\n",
    "#     F = f_wall_elements + f_gravity_elements + shear_elements # Total force on each element\n",
    "#     f_friction_nodes = friction_long (v, tangent, F, f_wall_elements, n, mu_sf, mu_kf, mu_sb, mu_kb)\n",
    "\n",
    "#     # (iii) Total Force Calculation at each node:\n",
    "    f_total_nodes = f_wall_nodes + f_gravity_nodes #+ f_friction_nodes\n",
    "    f_total_force_list.append(f_total_nodes[1][1])\n",
    "\n",
    "#     # (iv) Torque Calculation:\n",
    "#     couple = torque(s_elements, beta_m, Q, time, lambda_m) # I guess you want the couple at the elements ie shape = [n]\n",
    "\n",
    "    r, v, Q, w = solution.step(dt = dt, couple = couple, force = f_total_nodes)\n",
    "    \n",
    "    y_list.append(r[:,1])\n",
    "    v_list.append(v[:,1])"
   ]
  },
  {
   "cell_type": "code",
   "execution_count": null,
   "metadata": {},
   "outputs": [],
   "source": [
    "plt.plot(f_wall_force_list)\n",
    "plt.ylabel(\"CASE 3: Wall Force on element - 1\")\n",
    "plt.xlabel(\"No. of Iterations\")\n",
    "plt.show()\n",
    "\n",
    "plt.plot(f_total_force_list)\n",
    "plt.ylabel(\"CASE 3: Total Force on element - 1\")\n",
    "plt.xlabel(\"No. of Iterations\")\n",
    "plt.show()"
   ]
  },
  {
   "cell_type": "code",
   "execution_count": null,
   "metadata": {
    "scrolled": false
   },
   "outputs": [],
   "source": [
    "plt.plot(y_list)\n",
    "plt.ylabel(\"CASE 3: Y-Position\")\n",
    "plt.xlabel(\"No. of Iterations\")\n",
    "plt.show()\n",
    "\n",
    "plt.plot(v_list)\n",
    "plt.ylabel(\"CASE 3: Y-Direction Velocity\")\n",
    "plt.xlabel(\"No. of Iterations\")\n",
    "plt.show()"
   ]
  },
  {
   "cell_type": "code",
   "execution_count": null,
   "metadata": {},
   "outputs": [],
   "source": []
  },
  {
   "cell_type": "code",
   "execution_count": null,
   "metadata": {},
   "outputs": [],
   "source": []
  },
  {
   "cell_type": "code",
   "execution_count": null,
   "metadata": {},
   "outputs": [],
   "source": [
    "# CASE 1:\n",
    "# --> Initial Penetration of 'r' and no gravity"
   ]
  },
  {
   "cell_type": "code",
   "execution_count": null,
   "metadata": {},
   "outputs": [],
   "source": [
    "# CASE 2:\n",
    "# --> Initial Penetration of 'r' and gravity ON"
   ]
  },
  {
   "cell_type": "code",
   "execution_count": null,
   "metadata": {},
   "outputs": [],
   "source": [
    "# CASE 3:\n",
    "# --> Initial Height of 'r' and gravity ON"
   ]
  },
  {
   "cell_type": "code",
   "execution_count": null,
   "metadata": {},
   "outputs": [],
   "source": []
  },
  {
   "cell_type": "code",
   "execution_count": null,
   "metadata": {},
   "outputs": [],
   "source": []
  },
  {
   "cell_type": "code",
   "execution_count": null,
   "metadata": {},
   "outputs": [],
   "source": []
  },
  {
   "cell_type": "code",
   "execution_count": null,
   "metadata": {},
   "outputs": [],
   "source": []
  }
 ],
 "metadata": {
  "kernelspec": {
   "display_name": "Python 3",
   "language": "python",
   "name": "python3"
  },
  "language_info": {
   "codemirror_mode": {
    "name": "ipython",
    "version": 3
   },
   "file_extension": ".py",
   "mimetype": "text/x-python",
   "name": "python",
   "nbconvert_exporter": "python",
   "pygments_lexer": "ipython3",
   "version": "3.7.1"
  }
 },
 "nbformat": 4,
 "nbformat_minor": 4
}
